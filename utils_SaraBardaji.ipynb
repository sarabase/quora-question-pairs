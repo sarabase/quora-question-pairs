{
 "cells": [
  {
   "cell_type": "markdown",
   "source": [
    "# Utils - Sara Bardají\n",
    "\n",
    "This notebook contains the functions built by Sara Bardají."
   ],
   "metadata": {
    "collapsed": false
   }
  },
  {
   "cell_type": "markdown",
   "source": [
    "## Feature: Number of characters\n",
    "**Example 1:**\n",
    "q = 'how'\n",
    "num_of_characters(q) = 3\n",
    "\n",
    "**Example 2:**\n",
    "q = 'how are you doing'\n",
    "num_of_characters(q) = 17"
   ],
   "metadata": {
    "collapsed": false
   }
  },
  {
   "cell_type": "code",
   "execution_count": null,
   "outputs": [],
   "source": [
    "def num_of_characters(q):\n",
    "    \"\"\"\n",
    "    Computes the number of characters in a given string.\n",
    "\n",
    "    Parameters:\n",
    "        q (str): The input string.\n",
    "\n",
    "    Returns:\n",
    "        int: The number of characters in the input string.\n",
    "    \"\"\"\n",
    "    return len(q)\n"
   ],
   "metadata": {
    "collapsed": false
   }
  },
  {
   "cell_type": "code",
   "execution_count": null,
   "outputs": [],
   "source": [
    "q = 'how'\n",
    "num_of_characters(q)"
   ],
   "metadata": {
    "collapsed": false
   }
  },
  {
   "cell_type": "code",
   "execution_count": null,
   "outputs": [],
   "source": [
    "q = 'how are you doing'\n",
    "num_of_characters(q)"
   ],
   "metadata": {
    "collapsed": false
   }
  },
  {
   "cell_type": "markdown",
   "source": [
    "## Feature: Word count difference\n",
    "**Example 1:**\n",
    "q1 = 'how are you today'\n",
    "q2 = 'how are you doing today'\n",
    "difference_word_count(q1, q2) = 1\n",
    "\n",
    "**Example 2:**\n",
    "q1 = 'does my shoe fit'\n",
    "q2 = 'is my shoe on'\n",
    "difference_word_count(q1, q2) = 0"
   ],
   "metadata": {
    "collapsed": false
   }
  },
  {
   "cell_type": "code",
   "execution_count": null,
   "outputs": [],
   "source": [
    "def difference_word_count(q1, q2):\n",
    "    \"\"\"\n",
    "    Computes the absolute difference in word count between two input strings.\n",
    "\n",
    "    Parameters:\n",
    "        q1 (str): The first input string.\n",
    "        q2 (str): The second input string.\n",
    "\n",
    "    Returns:\n",
    "        int: The absolute difference in word count between the input strings.\n",
    "    \"\"\"\n",
    "\n",
    "    len_q1 = len(q1.split())\n",
    "    len_q2 = len(q2.split())\n",
    "    return abs(len_q1 - len_q2)\n"
   ],
   "metadata": {
    "collapsed": false
   }
  },
  {
   "cell_type": "code",
   "execution_count": null,
   "outputs": [],
   "source": [
    "q1 = 'how are you today'\n",
    "q2 = 'how are you doing today'\n",
    "difference_word_count(q1, q2)"
   ],
   "metadata": {
    "collapsed": false
   }
  },
  {
   "cell_type": "code",
   "execution_count": null,
   "outputs": [],
   "source": [
    "q1 = 'does my shoe fit'\n",
    "q2 = 'is my shoe on'\n",
    "difference_word_count(q1, q2)"
   ],
   "metadata": {
    "collapsed": false
   }
  },
  {
   "cell_type": "markdown",
   "source": [
    "## Feature: Total Unique Word Count and Total Unique Word Count to Total Words Ratio\n",
    "**Example 1:**\n",
    "q1 = 'how are you today'\n",
    "q2 = 'how are you doing today'\n",
    "num_of_unique_words(q1, q2) = 5\n",
    "num_of_unique_words_ration(q1, q2) = 0.556\n",
    "\n",
    "**Example 2:**\n",
    "q1 = 'does my shoe fit'\n",
    "q2 = 'is my shoe on'\n",
    "num_of_unique_words(q1, q2) = 6\n",
    "num_of_unique_words_ration(q1, q2) = 0.750"
   ],
   "metadata": {
    "collapsed": false
   }
  },
  {
   "cell_type": "code",
   "execution_count": null,
   "outputs": [],
   "source": [
    "def num_of_unique_words(q1, q2):\n",
    "    \"\"\"\n",
    "    Computes the number of unique words in the combined input strings.\n",
    "\n",
    "    Parameters:\n",
    "        q1 (str): The first input string.\n",
    "        q2 (str): The second input string.\n",
    "\n",
    "    Returns:\n",
    "        int: The number of unique words in the combined input strings.\n",
    "    \"\"\"\n",
    "    q1q2 = q1 + \" \" + q2\n",
    "    words = q1q2.split()\n",
    "    num_unique_words = len(set(words))\n",
    "    return num_unique_words\n",
    "\n",
    "\n",
    "def num_of_words(q1, q2):\n",
    "    \"\"\"\n",
    "    Computes the total number of words in the combined input strings.\n",
    "\n",
    "    Parameters:\n",
    "        q1 (str): The first input string.\n",
    "        q2 (str): The second input string.\n",
    "\n",
    "    Returns:\n",
    "        int: The total number of words in the combined input strings.\n",
    "    \"\"\"\n",
    "    q1q2 = q1 + \" \" + q2\n",
    "    words = q1q2.split()\n",
    "    num_words = len(words)\n",
    "    return num_words\n",
    "\n",
    "\n",
    "def total_unique_words_ratio(q1, q2):\n",
    "    \"\"\"\n",
    "    Computes the ratio of unique words to the total number of words in the combined input strings.\n",
    "\n",
    "    Parameters:\n",
    "        q1 (str): The first input string.\n",
    "        q2 (str): The second input string.\n",
    "\n",
    "    Returns:\n",
    "        float: The ratio of unique words to the total number of words in the combined input strings.\n",
    "    \"\"\"\n",
    "\n",
    "    num_unique_words = num_of_unique_words(q1, q2)\n",
    "    num_words = num_of_words(q1, q2)\n",
    "    return num_unique_words / num_words"
   ],
   "metadata": {
    "collapsed": false
   }
  },
  {
   "cell_type": "code",
   "execution_count": null,
   "outputs": [],
   "source": [
    "q1 = 'how are you today'\n",
    "q2 = 'how are you doing today'\n",
    "\n",
    "print(f'Number of unique words: {num_of_unique_words(q1, q2)}')\n",
    "print(f'Number of words: {num_of_words(q1, q2)}')\n",
    "print(f'Number of unique words ratio: {total_unique_words_ratio(q1, q2):.3f}')"
   ],
   "metadata": {
    "collapsed": false
   }
  },
  {
   "cell_type": "code",
   "execution_count": null,
   "outputs": [],
   "source": [
    "q1 = 'does my shoe fit'\n",
    "q2 = 'is my shoe on'\n",
    "\n",
    "print(f'Number of unique words: {num_of_unique_words(q1, q2)}')\n",
    "print(f'Number of words: {num_of_words(q1, q2)}')\n",
    "print(f'Number of unique words ratio: {total_unique_words_ratio(q1, q2):.3f}')"
   ],
   "metadata": {
    "collapsed": false
   }
  },
  {
   "cell_type": "markdown",
   "source": [
    "## Functionality: Spelling Correction"
   ],
   "metadata": {
    "collapsed": false
   }
  },
  {
   "cell_type": "code",
   "execution_count": null,
   "outputs": [],
   "source": [
    "class BKTree:\n",
    "    def __init__(self, distfn, words):\n",
    "        self.distfn = distfn\n",
    "\n",
    "        it = iter(words)\n",
    "        root = next(it)\n",
    "        self.tree = (root, {})\n",
    "\n",
    "        for i in it:\n",
    "            self._add_word(self.tree, i)\n",
    "\n",
    "    def _add_word(self, parent, word):\n",
    "        pword, children = parent\n",
    "        d = self.distfn(word, pword)\n",
    "        if d in children:\n",
    "            self._add_word(children[d], word)\n",
    "        else:\n",
    "            children[d] = (word, {})\n",
    "\n",
    "    def _search_descendants(self, parent, max_distance, distance, query_word):\n",
    "        node_word, children_dict = parent\n",
    "        dist_to_node = distance(query_word, node_word)\n",
    "        self.visited_nodes.append(node_word)\n",
    "        results = []\n",
    "\n",
    "        if dist_to_node <= max_distance:\n",
    "            results.append((dist_to_node, node_word))\n",
    "\n",
    "        I = range(max(0, dist_to_node - max_distance), dist_to_node + max_distance + 1)\n",
    "        for dist in I:\n",
    "            if dist in children_dict:\n",
    "                child = children_dict[dist]\n",
    "                if child[0] not in self.visited_nodes:\n",
    "                    results.extend(self._search_descendants(child, max_distance, distance, query_word))\n",
    "        return results\n",
    "\n",
    "    def query(self, query_word, max_distance):\n",
    "        self.visited_nodes = []\n",
    "        results = self._search_descendants(self.tree, max_distance, self.distfn, query_word)\n",
    "        sorted_results = sorted(results)\n",
    "        return sorted_results"
   ],
   "metadata": {
    "collapsed": false
   }
  },
  {
   "cell_type": "code",
   "execution_count": null,
   "outputs": [],
   "source": [
    "import editdistance\n",
    "\n",
    "def spellchecker(q, V):\n",
    "        \"\"\"\n",
    "    Performs spell correction on the input string using a given vocabulary and a BKTree.\n",
    "\n",
    "    Parameters:\n",
    "        q (str): The input string to be corrected.\n",
    "        V (set): A set containing the vocabulary of known words.\n",
    "\n",
    "    Returns:\n",
    "        str: The corrected input string.\n",
    "    \"\"\"\n",
    "    bk_tree = BKTree(editdistance.eval, V)\n",
    "    correction = []\n",
    "    for word in q.split():\n",
    "        if word in V:\n",
    "            correction.append(word)\n",
    "        else:\n",
    "            candidates = bk_tree.query(word, 2)\n",
    "            if len(candidates)>0:\n",
    "                correction.append(candidates[0][1])\n",
    "            else:\n",
    "                correction.append(word)\n",
    "    return ' '.join(correction)"
   ],
   "metadata": {
    "collapsed": false
   }
  },
  {
   "cell_type": "code",
   "execution_count": null,
   "outputs": [],
   "source": [
    "V = ['serendipity', 'cacophony', 'onomatopoeia', 'persnickety', 'mellifluous', 'ineffable', 'ephemeral', 'synchronicity', 'languid', 'ubiquitous', 'panacea', 'hapless', 'euphoria', 'inscrutable', 'inevitable', 'capricious', 'antithesis', 'discombobulated', 'superfluous', 'equanimity', 'furtive', 'magnanimous', 'ambivalent', 'laconic', 'gregarious', 'loquacious', 'opaque', 'resilient', 'vexatious', 'enigmatic', 'esoteric', 'gratuitous', 'melancholy', 'obfuscate', 'pernicious', 'querulous', 'recondite', 'scrupulous', 'torpid', 'voracious', 'joke', 'jose']\n",
    "q = 'serendipty equanimity furtve melancholy pernicius jole'\n",
    "\n",
    "spellchecker(q, V)"
   ],
   "metadata": {
    "collapsed": false
   }
  },
  {
   "cell_type": "code",
   "execution_count": null,
   "outputs": [],
   "source": [],
   "metadata": {
    "collapsed": false
   }
  }
 ],
 "metadata": {
  "kernelspec": {
   "display_name": "Python 3",
   "language": "python",
   "name": "python3"
  },
  "language_info": {
   "codemirror_mode": {
    "name": "ipython",
    "version": 2
   },
   "file_extension": ".py",
   "mimetype": "text/x-python",
   "name": "python",
   "nbconvert_exporter": "python",
   "pygments_lexer": "ipython2",
   "version": "2.7.6"
  }
 },
 "nbformat": 4,
 "nbformat_minor": 0
}
