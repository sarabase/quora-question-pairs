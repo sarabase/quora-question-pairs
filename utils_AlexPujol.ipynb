{
 "cells": [
  {
   "cell_type": "markdown",
   "id": "a08d082a-6231-4a6e-a3be-a4875b64a60d",
   "metadata": {},
   "source": [
    "# Utils - Àlex Pujol"
   ]
  },
  {
   "cell_type": "markdown",
   "id": "3abf403d-b29d-4263-a76d-ed7212c4f290",
   "metadata": {},
   "source": [
    "This notebook contains the functions and its explanations built by Àlex Pujol for the Quora Questions task for NLP subject."
   ]
  },
  {
   "cell_type": "code",
   "execution_count": null,
   "id": "b8130cd1-2500-4ceb-a8a3-36496260b5b9",
   "metadata": {},
   "outputs": [],
   "source": [
    "import spacy\n",
    "import random\n",
    "from utils import words_count, tokenize_text, remove_accents, remove_punctuation\n",
    "\n",
    "import nltk\n",
    "#nltk.download('punkt')"
   ]
  },
  {
   "cell_type": "code",
   "execution_count": null,
   "id": "5f393175-b832-4361-be6c-d7348d3948d8",
   "metadata": {},
   "outputs": [],
   "source": [
    "# Example questions to test the functions\n",
    "questions = [\n",
    "    \"I like to read books\", \"Reading books is enjoyable for me\",\n",
    "    \"She runs every morning\", \"Every morning she goes for a run\",\n",
    "    \"The cat is sleeping\", \"The sleeping cat is cute\",\n",
    "    \"I am learning to code\", \"Coding is a useful skill to learn\",\n",
    "    \"He enjoys playing video games\", \"Playing video games is his favorite hobby\",\n",
    "    \"The car stopped abruptly\", \"The abrupt stop of the car was surprising\",\n",
    "    \"We went to the beach\", \"The beach was crowded and sunny\",\n",
    "    \"She sings beautifully\", \"Her beautiful singing voice is captivating\",\n",
    "    \"The restaurant serves delicious food\", \"The food at the restaurant is always tasty\",\n",
    "    \"He is studying for an exam\", \"Studying is important for academic success\",\n",
    "    \"The flowers are blooming\", \"The blooming flowers are a sign of spring\",\n",
    "    \"The movie was entertaining\", \"I found the movie to be quite enjoyable\",\n",
    "    \"She is a talented musician\", \"Music is her passion and she is very talented\",\n",
    "    \"The building is very tall\", \"The tall building is an impressive feat of engineering\",\n",
    "    \"He traveled to Europe last summer\", \"Last summer he went on a trip to Europe\",\n",
    "    \"I love spending time with my family\", \"My family is very important to me\",\n",
    "    \"The book was very suspenseful\", \"I found the book to be quite thrilling\",\n",
    "    \"She enjoys painting and drawing\", \"Art is her favorite form of self-expression\",\n",
    "    \"The sun is shining brightly today\", \"The bright sun is making everything look beautiful\",\n",
    "    \"He is an excellent chef\", \"Cooking is his passion and he is very skilled\"\n",
    "]"
   ]
  },
  {
   "cell_type": "markdown",
   "id": "c535f8d0-29be-4400-be12-59b8bc252ae5",
   "metadata": {},
   "source": [
    "## Feature: Count Syllables"
   ]
  },
  {
   "cell_type": "markdown",
   "id": "e952d25b-f15e-4fe5-b72b-8a4db9e2d452",
   "metadata": {},
   "source": [
    "Bellow are some functions to count syllables from words and from sentences. Useful as a feature itself and to build more complex features."
   ]
  },
  {
   "cell_type": "code",
   "execution_count": null,
   "id": "75a4998a-aabb-446e-90f5-8ab138a98ec6",
   "metadata": {},
   "outputs": [],
   "source": [
    "def count_word_syllables(word):\n",
    "    ''' \n",
    "    Args: \n",
    "        word (str): a tokenized word from a sentence\n",
    "        \n",
    "    Return:\n",
    "        int: number of syllables from a word\n",
    "    '''\n",
    "    count = 0\n",
    "    vowels = 'aeiouy'\n",
    "    word = word.lower().strip(\".:;?!\")\n",
    "    if word[0] in vowels:\n",
    "        count +=1\n",
    "    for index in range(1,len(word)):\n",
    "        if word[index] in vowels and word[index-1] not in vowels:\n",
    "            count +=1\n",
    "    if word.endswith('e'):\n",
    "        count -= 1\n",
    "    if word.endswith('le'):\n",
    "        count+=1\n",
    "    if count == 0:\n",
    "        count +=1\n",
    "    return int(count)\n",
    "\n",
    "def count_sentence_syllables(doc):\n",
    "    '''\n",
    "    Args: \n",
    "        doc (str): a raw sentence\n",
    "        \n",
    "    Return:\n",
    "        int: number of syllables of the entire sentence\n",
    "    '''\n",
    "    count = 0\n",
    "    for w in tokenize_text(remove_accents(remove_punctuation(doc))):\n",
    "        count += count_word_syllables(w)\n",
    "    return int(count)"
   ]
  },
  {
   "cell_type": "code",
   "execution_count": null,
   "id": "afc54ae2-209f-4253-9219-f3748d99d537",
   "metadata": {},
   "outputs": [],
   "source": [
    "# Examples\n",
    "ex = questions[random.randint(0,len(questions)-1)]\n",
    "print(\"Example sentence: \\n=>\",ex)\n",
    "print()\n",
    "print(\"Syllables for each word: \\n=>\", [count_word_syllables(w) for w in tokenize_text(remove_accents(remove_punctuation(ex)))])\n",
    "print()\n",
    "print(\"Total amount of syllables in the sentence: \\n=>\", count_sentence_syllables(ex))"
   ]
  },
  {
   "cell_type": "markdown",
   "id": "306b97ee-3639-42b4-b0bb-cd905023299a",
   "metadata": {},
   "source": [
    "## Feature: Readibility metrics"
   ]
  },
  {
   "cell_type": "markdown",
   "id": "75a4f36d-ccbb-4062-98a3-8929cb7f9fd3",
   "metadata": {
    "tags": []
   },
   "source": [
    "### Flesch–Kincaid readability tests"
   ]
  },
  {
   "cell_type": "markdown",
   "id": "af963f01-6e74-4572-8a96-d8e8ef816380",
   "metadata": {
    "tags": []
   },
   "source": [
    "The **Flesch–Kincaid readability tests** are readability tests designed to indicate how difficult a passage in English is to understand. There are two tests: the Flesch Reading-Ease, and the Flesch–Kincaid Grade Level. Although they use the same core measures (word length and sentence length), they have different weighting factors. \n",
    "- Flesch Reading-Ease: Higher scores indicate material that is easier to read; lower numbers mark passages that are more difficult to read.\n",
    "- Flesch–Kincaid grade level: Presents a score as a U.S. grade level, making it easier for teachers, parents, librarians, and others to judge the readability level of various books and texts. It can also mean the number of years of education generally required to understand this text."
   ]
  },
  {
   "cell_type": "code",
   "execution_count": null,
   "id": "6cad0c21-f5ae-4bff-817f-350dbc4aa1cc",
   "metadata": {},
   "outputs": [],
   "source": [
    "# Flesch Reading-Ease\n",
    "def Flesch_Reading_Ease(doc, a = 206.835, b = 1.015, c = 84.6):\n",
    "    '''\n",
    "    Args:\n",
    "        doc (str): sentence to analize\n",
    "        a (float): Flesch Reading-Ease parameter\n",
    "        b (float): Flesch Reading-Ease parameter\n",
    "        c (float): Flesch Reading-Ease parameter\n",
    "    \n",
    "    Return:\n",
    "        str: Computes the Flesch Reading-Ease score of the sentence\n",
    "    '''\n",
    "    return a - b * (words_count(doc) / 1) - c * (count_sentence_syllables(doc) / words_count(doc))\n",
    "\n",
    "\n",
    "# Flesch-Kincaid Grade Level\n",
    "def Flesch_Grade_Level(doc, a = 0.39, b = 11.8, c = 15.59):\n",
    "    '''\n",
    "    Args:\n",
    "        doc (str): sentence to analize\n",
    "        a (float): Flesch-Kincaid Grade Level parameter\n",
    "        b (float): Flesch-Kincaid Grade Level parameter\n",
    "        c (float): Flesch-Kincaid Grade Level parameter\n",
    "    \n",
    "    Return:\n",
    "        str: Computes the Flesch-Kincaid Grade Level score of the sentence\n",
    "    '''\n",
    "    return a * (words_count(doc) / 1) + b * (count_sentence_syllables(doc) / words_count(doc)) - c\n",
    "    \n",
    "    "
   ]
  },
  {
   "cell_type": "code",
   "execution_count": null,
   "id": "66e17f84-422c-49f2-a48b-7f0f44efb80c",
   "metadata": {},
   "outputs": [],
   "source": [
    "# Examples\n",
    "ex = questions[random.randint(0,len(questions)-1)]\n",
    "print(\"Example sentence: \\n=>\",ex)\n",
    "print()\n",
    "print(\"Flesch Reading-Ease score: \\n=>\", Flesch_Reading_Ease(ex))\n",
    "print()\n",
    "print(\"Flesch-Kincaid Grade Level score: \\n=>\", Flesch_Grade_Level(ex))\n",
    "print()"
   ]
  },
  {
   "cell_type": "markdown",
   "id": "a251c32c-6b93-424e-b38d-13bf07b06ecf",
   "metadata": {},
   "source": [
    "## Feature: Linguistic Features\n",
    "We make use of spaCy library to retrive different linguistic annotations of each question. "
   ]
  },
  {
   "cell_type": "code",
   "execution_count": null,
   "id": "21e149f6-36e8-40d1-a2a5-bc173a153043",
   "metadata": {},
   "outputs": [],
   "source": [
    "class Linguistics():\n",
    "    '''\n",
    "    Makes use of scapy library to extract linguistic features form sentences to either use them as features themselves or to build more complex features.\n",
    "    '''\n",
    "    def __init__(self, doc):\n",
    "        '''\n",
    "        Args:\n",
    "            doc (str): sentence to analyze\n",
    "        '''\n",
    "        nlp = spacy.load(\"en_core_web_sm\")\n",
    "        self.doc = doc\n",
    "        self.tokens = nlp(doc)\n",
    "    \n",
    "    def text(self):\n",
    "        '''\n",
    "        Tokenizes the sentence\n",
    "        '''\n",
    "        return [token.text for token in self.tokens]\n",
    "    \n",
    "    def lemma(self):\n",
    "        '''\n",
    "        Lemmatizes the sentence\n",
    "        '''\n",
    "        return [token.lemma_ for token in self.tokens]\n",
    "    \n",
    "    def pos(self):\n",
    "        '''\n",
    "        Applies simple Part-Of-Speech tagging to the sentence\n",
    "        '''\n",
    "        return [token.pos_ for token in self.tokens]\n",
    "    \n",
    "    def tag(self):\n",
    "        '''\n",
    "        Applies detailed Part-Of-Speech tagging to the sentence\n",
    "        '''\n",
    "        return [token.tag_ for token in self.tokens]\n",
    "    \n",
    "    def dep(self):\n",
    "        '''\n",
    "        Applies the syntactic dependencey between tokens in the sentence\n",
    "        '''\n",
    "        return [token.dep_ for token in self.tokens]\n",
    "    \n",
    "    def shape(self):\n",
    "        '''\n",
    "        Applies tagging to words according to their shape\n",
    "        '''\n",
    "        return [token.shape_ for token in self.tokens]\n",
    "    \n",
    "    def is_alpha(self):\n",
    "        '''\n",
    "        Applies tagging according for word being an Alpha token or not\n",
    "        '''\n",
    "        return [token.is_alpha for token in self.tokens]\n",
    "    \n",
    "    def is_stop(self):\n",
    "        '''\n",
    "        Applies tagging according for word being a stopword or not\n",
    "        '''\n",
    "        return [token.is_stop for token in self.tokens]"
   ]
  },
  {
   "cell_type": "markdown",
   "id": "9dc29c71-aec5-496d-bd1a-df18b6820316",
   "metadata": {},
   "source": [
    "## Functionality: TF-IDF implementation in cython\n",
    "The method `tf_idf.compute_tf_idf(str docs)` computes the tf-idf of docs and returns each document as a normalized sparse vector where each element of the vector is`(str word, double value)`."
   ]
  },
  {
   "cell_type": "code",
   "execution_count": null,
   "id": "6abb08ca-ca8f-4738-b779-0b42aa913c2a",
   "metadata": {},
   "outputs": [],
   "source": [
    "from cython_utils import tf_idf"
   ]
  },
  {
   "cell_type": "code",
   "execution_count": null,
   "id": "5a6828df-a2d8-4692-8bf6-10366b49dde0",
   "metadata": {},
   "outputs": [],
   "source": [
    "# Examples\n",
    "\n",
    "import time\n",
    "start_time = time.time()\n",
    "tf_idfs = tf_idf.compute_tf_idf(questions)\n",
    "print(\"---Execution time: %s seconds ---\" % (time.time() - start_time))\n",
    "\n",
    "for i, doc_tf_idfs in enumerate(tf_idfs[:2]):\n",
    "    print(f\"Document {i}:\")\n",
    "    for term, tf_idf in doc_tf_idfs:\n",
    "        print(f\"\\t{term}: {tf_idf}\")"
   ]
  },
  {
   "cell_type": "code",
   "execution_count": null,
   "id": "59a0516f-b24f-430b-a4f9-62279dd3fb10",
   "metadata": {},
   "outputs": [],
   "source": []
  },
  {
   "cell_type": "code",
   "execution_count": null,
   "id": "0b7d72aa-4ba2-4d3e-8bed-a1835617c22e",
   "metadata": {},
   "outputs": [],
   "source": []
  }
 ],
 "metadata": {
  "kernelspec": {
   "display_name": "Python 3 (ipykernel)",
   "language": "python",
   "name": "python3"
  },
  "language_info": {
   "codemirror_mode": {
    "name": "ipython",
    "version": 3
   },
   "file_extension": ".py",
   "mimetype": "text/x-python",
   "name": "python",
   "nbconvert_exporter": "python",
   "pygments_lexer": "ipython3",
   "version": "3.9.12"
  }
 },
 "nbformat": 4,
 "nbformat_minor": 5
}
