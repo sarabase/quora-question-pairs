{
 "cells": [
  {
   "cell_type": "markdown",
   "source": [
    "# Train Models\n",
    "<div style=\"color:red; font-size:14px;\">!! Don't define functions here, import them from utils.py</div>\n",
    "\n",
    "This notebook contains the code needed to train and store models to disk.\n",
    "\n",
    "Remember that if you use a function with a random state you have to fix it to a number so that the results are reproducible."
   ],
   "metadata": {
    "collapsed": false
   }
  },
  {
   "cell_type": "markdown",
   "source": [
    "## Imports"
   ],
   "metadata": {
    "collapsed": false
   }
  },
  {
   "cell_type": "code",
   "execution_count": 10,
   "outputs": [],
   "source": [
    "import pandas as pd\n",
    "import sklearn\n",
    "from sklearn import *\n",
    "import os\n",
    "import pickle\n",
    "\n",
    "from utils import *"
   ],
   "metadata": {
    "collapsed": false
   }
  },
  {
   "cell_type": "markdown",
   "source": [
    "## Read data and split"
   ],
   "metadata": {
    "collapsed": false
   }
  },
  {
   "cell_type": "code",
   "execution_count": 11,
   "outputs": [],
   "source": [
    "home_dir = os.environ['HOME']\n",
    "path_folder_quora = home_dir + '/Datasets/QuoraQuestionPairs'"
   ],
   "metadata": {
    "collapsed": false
   }
  },
  {
   "cell_type": "code",
   "execution_count": 12,
   "outputs": [
    {
     "data": {
      "text/plain": "'/Users/sarabase/Datasets/QuoraQuestionPairs'"
     },
     "execution_count": 12,
     "metadata": {},
     "output_type": "execute_result"
    }
   ],
   "source": [
    "path_folder_quora"
   ],
   "metadata": {
    "collapsed": false
   }
  },
  {
   "cell_type": "code",
   "execution_count": 13,
   "outputs": [
    {
     "name": "stdout",
     "output_type": "stream",
     "text": [
      "X_tr_df.shape= (291897, 5)\n",
      "y_tr.shape= (291897,)\n",
      "X_va.shape= (15363, 5)\n",
      "y_va_df.shape= (291897,)\n",
      "X_te.shape= (16172, 5)\n",
      "y_tr_df.shape= (291897,)\n"
     ]
    }
   ],
   "source": [
    "train_df = pd.read_csv(os.path.join(path_folder_quora, 'quora_train_data.csv'))\n",
    "test_df = pd.read_csv(os.path.join(path_folder_quora, 'quora_test_data.csv'))\n",
    "\n",
    "A_df, te_df = sklearn.model_selection.train_test_split(train_df,\n",
    "                                                       test_size=0.05,\n",
    "                                                       random_state=123)\n",
    "tr_df, va_df = sklearn.model_selection.train_test_split(A_df,\n",
    "                                                        test_size=0.05,\n",
    "                                                        random_state=123)\n",
    "y_tr = tr_df['is_duplicate'].values\n",
    "X_tr_df = tr_df.drop(['is_duplicate'], axis =1)\n",
    "\n",
    "y_va = va_df['is_duplicate'].values\n",
    "X_va_df = va_df.drop(['is_duplicate'], axis =1)\n",
    "\n",
    "y_te = te_df['is_duplicate'].values\n",
    "X_te_df = te_df.drop(['is_duplicate'], axis =1)\n",
    "\n",
    "print('X_tr_df.shape=',X_tr_df.shape)\n",
    "print('y_tr.shape=',y_tr.shape)\n",
    "print('X_va.shape=',X_va_df.shape)\n",
    "print('y_va_df.shape=',y_tr.shape)\n",
    "print('X_te.shape=',X_te_df.shape)\n",
    "print('y_tr_df.shape=',y_tr.shape)"
   ],
   "metadata": {
    "collapsed": false
   }
  },
  {
   "cell_type": "markdown",
   "source": [
    "## Explore data"
   ],
   "metadata": {
    "collapsed": false
   }
  },
  {
   "cell_type": "code",
   "execution_count": 14,
   "outputs": [
    {
     "data": {
      "text/plain": "       id    qid1    qid2                                          question1   \n0  346692   38482   10706         Why do I get easily bored with everything?  \\\n1  327668  454117  345117  How do I study for Honeywell company recruitment?   \n2  272993  391373  391374      Which search engine algorithm is Quora using?   \n3   54070   82673   95496                      How can I smartly cut myself?   \n4   46450   38384   72436   How do I see who is viewing my Instagram videos?   \n\n                                           question2  is_duplicate  \n0  Why do I get bored with things so quickly and ...             1  \n1  How do I study for Honeywell company recruitme...             1  \n2     Why is Quora not using reliable search engine?             0  \n3  Can someone who thinks about suicide for 7 yea...             0  \n4       Can one tell who viewed my Instagram videos?             1  ",
      "text/html": "<div>\n<style scoped>\n    .dataframe tbody tr th:only-of-type {\n        vertical-align: middle;\n    }\n\n    .dataframe tbody tr th {\n        vertical-align: top;\n    }\n\n    .dataframe thead th {\n        text-align: right;\n    }\n</style>\n<table border=\"1\" class=\"dataframe\">\n  <thead>\n    <tr style=\"text-align: right;\">\n      <th></th>\n      <th>id</th>\n      <th>qid1</th>\n      <th>qid2</th>\n      <th>question1</th>\n      <th>question2</th>\n      <th>is_duplicate</th>\n    </tr>\n  </thead>\n  <tbody>\n    <tr>\n      <th>0</th>\n      <td>346692</td>\n      <td>38482</td>\n      <td>10706</td>\n      <td>Why do I get easily bored with everything?</td>\n      <td>Why do I get bored with things so quickly and ...</td>\n      <td>1</td>\n    </tr>\n    <tr>\n      <th>1</th>\n      <td>327668</td>\n      <td>454117</td>\n      <td>345117</td>\n      <td>How do I study for Honeywell company recruitment?</td>\n      <td>How do I study for Honeywell company recruitme...</td>\n      <td>1</td>\n    </tr>\n    <tr>\n      <th>2</th>\n      <td>272993</td>\n      <td>391373</td>\n      <td>391374</td>\n      <td>Which search engine algorithm is Quora using?</td>\n      <td>Why is Quora not using reliable search engine?</td>\n      <td>0</td>\n    </tr>\n    <tr>\n      <th>3</th>\n      <td>54070</td>\n      <td>82673</td>\n      <td>95496</td>\n      <td>How can I smartly cut myself?</td>\n      <td>Can someone who thinks about suicide for 7 yea...</td>\n      <td>0</td>\n    </tr>\n    <tr>\n      <th>4</th>\n      <td>46450</td>\n      <td>38384</td>\n      <td>72436</td>\n      <td>How do I see who is viewing my Instagram videos?</td>\n      <td>Can one tell who viewed my Instagram videos?</td>\n      <td>1</td>\n    </tr>\n  </tbody>\n</table>\n</div>"
     },
     "execution_count": 14,
     "metadata": {},
     "output_type": "execute_result"
    }
   ],
   "source": [
    "train_df.head()"
   ],
   "metadata": {
    "collapsed": false
   }
  },
  {
   "cell_type": "markdown",
   "source": [
    "## Simple Solution"
   ],
   "metadata": {
    "collapsed": false
   }
  },
  {
   "cell_type": "code",
   "execution_count": 15,
   "outputs": [
    {
     "data": {
      "text/plain": "583794"
     },
     "execution_count": 15,
     "metadata": {},
     "output_type": "execute_result"
    }
   ],
   "source": [
    "# Build corpus combining all questions in a list\n",
    "all_q1 = list(X_tr_df[\"question1\"])\n",
    "all_q2 = list(X_tr_df[\"question2\"])\n",
    "all_questions = all_q1 + all_q2\n",
    "\n",
    "len(all_questions)"
   ],
   "metadata": {
    "collapsed": false
   }
  },
  {
   "cell_type": "code",
   "execution_count": 16,
   "outputs": [],
   "source": [
    "# Cast lists as strings\n",
    "all_questions = cast_list_as_strings(all_questions)"
   ],
   "metadata": {
    "collapsed": false
   }
  },
  {
   "cell_type": "code",
   "execution_count": 17,
   "outputs": [
    {
     "data": {
      "text/plain": "((291897, 149650),\n (291897, 6),\n (15363, 149650),\n (15363, 6),\n (16172, 6),\n (16172, 149650))"
     },
     "execution_count": 17,
     "metadata": {},
     "output_type": "execute_result"
    }
   ],
   "source": [
    "# Train and transform using Count Vectorizer\n",
    "count_vectorizer = sklearn.feature_extraction.text.CountVectorizer(ngram_range=(1,1))\n",
    "count_vectorizer.fit(all_questions)\n",
    "\n",
    "X_tr_q1q2 = get_features_from_df(X_tr_df,count_vectorizer)\n",
    "X_va_q1q2 = get_features_from_df(X_va_df,count_vectorizer)\n",
    "X_te_q1q2  = get_features_from_df(X_te_df, count_vectorizer)\n",
    "\n",
    "X_tr_q1q2.shape, tr_df.shape, X_va_q1q2.shape, va_df.shape, te_df.shape, X_te_q1q2.shape"
   ],
   "metadata": {
    "collapsed": false
   }
  },
  {
   "cell_type": "code",
   "execution_count": 18,
   "outputs": [
    {
     "data": {
      "text/plain": "LogisticRegression(random_state=123, solver='liblinear')",
      "text/html": "<style>#sk-container-id-1 {color: black;background-color: white;}#sk-container-id-1 pre{padding: 0;}#sk-container-id-1 div.sk-toggleable {background-color: white;}#sk-container-id-1 label.sk-toggleable__label {cursor: pointer;display: block;width: 100%;margin-bottom: 0;padding: 0.3em;box-sizing: border-box;text-align: center;}#sk-container-id-1 label.sk-toggleable__label-arrow:before {content: \"▸\";float: left;margin-right: 0.25em;color: #696969;}#sk-container-id-1 label.sk-toggleable__label-arrow:hover:before {color: black;}#sk-container-id-1 div.sk-estimator:hover label.sk-toggleable__label-arrow:before {color: black;}#sk-container-id-1 div.sk-toggleable__content {max-height: 0;max-width: 0;overflow: hidden;text-align: left;background-color: #f0f8ff;}#sk-container-id-1 div.sk-toggleable__content pre {margin: 0.2em;color: black;border-radius: 0.25em;background-color: #f0f8ff;}#sk-container-id-1 input.sk-toggleable__control:checked~div.sk-toggleable__content {max-height: 200px;max-width: 100%;overflow: auto;}#sk-container-id-1 input.sk-toggleable__control:checked~label.sk-toggleable__label-arrow:before {content: \"▾\";}#sk-container-id-1 div.sk-estimator input.sk-toggleable__control:checked~label.sk-toggleable__label {background-color: #d4ebff;}#sk-container-id-1 div.sk-label input.sk-toggleable__control:checked~label.sk-toggleable__label {background-color: #d4ebff;}#sk-container-id-1 input.sk-hidden--visually {border: 0;clip: rect(1px 1px 1px 1px);clip: rect(1px, 1px, 1px, 1px);height: 1px;margin: -1px;overflow: hidden;padding: 0;position: absolute;width: 1px;}#sk-container-id-1 div.sk-estimator {font-family: monospace;background-color: #f0f8ff;border: 1px dotted black;border-radius: 0.25em;box-sizing: border-box;margin-bottom: 0.5em;}#sk-container-id-1 div.sk-estimator:hover {background-color: #d4ebff;}#sk-container-id-1 div.sk-parallel-item::after {content: \"\";width: 100%;border-bottom: 1px solid gray;flex-grow: 1;}#sk-container-id-1 div.sk-label:hover label.sk-toggleable__label {background-color: #d4ebff;}#sk-container-id-1 div.sk-serial::before {content: \"\";position: absolute;border-left: 1px solid gray;box-sizing: border-box;top: 0;bottom: 0;left: 50%;z-index: 0;}#sk-container-id-1 div.sk-serial {display: flex;flex-direction: column;align-items: center;background-color: white;padding-right: 0.2em;padding-left: 0.2em;position: relative;}#sk-container-id-1 div.sk-item {position: relative;z-index: 1;}#sk-container-id-1 div.sk-parallel {display: flex;align-items: stretch;justify-content: center;background-color: white;position: relative;}#sk-container-id-1 div.sk-item::before, #sk-container-id-1 div.sk-parallel-item::before {content: \"\";position: absolute;border-left: 1px solid gray;box-sizing: border-box;top: 0;bottom: 0;left: 50%;z-index: -1;}#sk-container-id-1 div.sk-parallel-item {display: flex;flex-direction: column;z-index: 1;position: relative;background-color: white;}#sk-container-id-1 div.sk-parallel-item:first-child::after {align-self: flex-end;width: 50%;}#sk-container-id-1 div.sk-parallel-item:last-child::after {align-self: flex-start;width: 50%;}#sk-container-id-1 div.sk-parallel-item:only-child::after {width: 0;}#sk-container-id-1 div.sk-dashed-wrapped {border: 1px dashed gray;margin: 0 0.4em 0.5em 0.4em;box-sizing: border-box;padding-bottom: 0.4em;background-color: white;}#sk-container-id-1 div.sk-label label {font-family: monospace;font-weight: bold;display: inline-block;line-height: 1.2em;}#sk-container-id-1 div.sk-label-container {text-align: center;}#sk-container-id-1 div.sk-container {/* jupyter's `normalize.less` sets `[hidden] { display: none; }` but bootstrap.min.css set `[hidden] { display: none !important; }` so we also need the `!important` here to be able to override the default hidden behavior on the sphinx rendered scikit-learn.org. See: https://github.com/scikit-learn/scikit-learn/issues/21755 */display: inline-block !important;position: relative;}#sk-container-id-1 div.sk-text-repr-fallback {display: none;}</style><div id=\"sk-container-id-1\" class=\"sk-top-container\"><div class=\"sk-text-repr-fallback\"><pre>LogisticRegression(random_state=123, solver=&#x27;liblinear&#x27;)</pre><b>In a Jupyter environment, please rerun this cell to show the HTML representation or trust the notebook. <br />On GitHub, the HTML representation is unable to render, please try loading this page with nbviewer.org.</b></div><div class=\"sk-container\" hidden><div class=\"sk-item\"><div class=\"sk-estimator sk-toggleable\"><input class=\"sk-toggleable__control sk-hidden--visually\" id=\"sk-estimator-id-1\" type=\"checkbox\" checked><label for=\"sk-estimator-id-1\" class=\"sk-toggleable__label sk-toggleable__label-arrow\">LogisticRegression</label><div class=\"sk-toggleable__content\"><pre>LogisticRegression(random_state=123, solver=&#x27;liblinear&#x27;)</pre></div></div></div></div></div>"
     },
     "execution_count": 18,
     "metadata": {},
     "output_type": "execute_result"
    }
   ],
   "source": [
    "# Train Logistic Regression Model\n",
    "lr_model = sklearn.linear_model.LogisticRegression(solver=\"liblinear\",\n",
    "                                                   random_state=123)\n",
    "lr_model.fit(X_tr_q1q2, y_tr)"
   ],
   "metadata": {
    "collapsed": false
   }
  },
  {
   "cell_type": "markdown",
   "source": [
    "### Save model"
   ],
   "metadata": {
    "collapsed": false
   }
  },
  {
   "cell_type": "code",
   "execution_count": 19,
   "outputs": [],
   "source": [
    "if not os.path.isdir(\"model_artifacts\"):\n",
    "    os.mkdir(\"model_artifacts\")\n",
    "\n",
    "if not os.path.isdir(\"model_artifacts/simple_solution\"):\n",
    "        os.mkdir(\"model_artifacts/simple_solution\")\n",
    "        # Save model and validation and test datasets\n",
    "        with open('model_artifacts/simple_solution/lr_model.pkl', 'wb') as file:\n",
    "            pickle.dump(lr_model, file)\n",
    "        with open('model_artifacts/simple_solution/X_tr_q1q2.pkl', 'wb') as file:\n",
    "            pickle.dump(X_tr_q1q2, file)\n",
    "        with open('model_artifacts/simple_solution/y_tr.pkl', 'wb') as file:\n",
    "            pickle.dump(y_tr, file)\n",
    "        with open('model_artifacts/simple_solution/X_va_q1q2.pkl', 'wb') as file:\n",
    "            pickle.dump(X_va_q1q2, file)\n",
    "        with open('model_artifacts/simple_solution/y_va.pkl', 'wb') as file:\n",
    "            pickle.dump(y_va, file)\n",
    "        with open('model_artifacts/simple_solution/X_te_q1q2.pkl', 'wb') as file:\n",
    "            pickle.dump(X_te_q1q2, file)\n",
    "        with open('model_artifacts/simple_solution/y_te.pkl', 'wb') as file:\n",
    "            pickle.dump(y_te, file)"
   ],
   "metadata": {
    "collapsed": false
   }
  },
  {
   "cell_type": "code",
   "execution_count": 15,
   "outputs": [
    {
     "data": {
      "text/plain": "<291897x149650 sparse matrix of type '<class 'numpy.int64'>'\n\twith 5861249 stored elements in Compressed Sparse Row format>"
     },
     "execution_count": 15,
     "metadata": {},
     "output_type": "execute_result"
    }
   ],
   "source": [
    "X_tr_q1q2"
   ],
   "metadata": {
    "collapsed": false
   }
  },
  {
   "cell_type": "code",
   "execution_count": null,
   "outputs": [],
   "source": [],
   "metadata": {
    "collapsed": false
   }
  }
 ],
 "metadata": {
  "kernelspec": {
   "display_name": "Python 3",
   "language": "python",
   "name": "python3"
  },
  "language_info": {
   "codemirror_mode": {
    "name": "ipython",
    "version": 2
   },
   "file_extension": ".py",
   "mimetype": "text/x-python",
   "name": "python",
   "nbconvert_exporter": "python",
   "pygments_lexer": "ipython2",
   "version": "2.7.6"
  }
 },
 "nbformat": 4,
 "nbformat_minor": 0
}
